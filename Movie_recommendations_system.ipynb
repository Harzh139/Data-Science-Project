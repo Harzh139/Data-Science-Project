{
  "nbformat": 4,
  "nbformat_minor": 0,
  "metadata": {
    "colab": {
      "provenance": []
    },
    "kernelspec": {
      "name": "python3",
      "display_name": "Python 3"
    },
    "language_info": {
      "name": "python"
    }
  },
  "cells": [
    {
      "cell_type": "code",
      "execution_count": 6,
      "metadata": {
        "colab": {
          "base_uri": "https://localhost:8080/"
        },
        "id": "TkNbfzaKWSuo",
        "outputId": "52fe2817-9d55-43fd-f3df-74f0ba366844"
      },
      "outputs": [
        {
          "output_type": "stream",
          "name": "stdout",
          "text": [
            "Welcome to the Movie Recommendation System!\n",
            "Enter a genre to receive movie suggestions: Sci-Fi\n",
            "\n",
            "Here are some top movie recommendations for you:\n",
            "             title   genre           director  rating\n",
            "2     Interstellar  Sci-Fi  Christopher Nolan     8.6\n",
            "1       The Matrix  Sci-Fi     Lana Wachowski     8.7\n",
            "0        Inception  Sci-Fi  Christopher Nolan     8.8\n",
            "2     Interstellar  Sci-Fi  Christopher Nolan     8.6\n",
            "3  The Dark Knight  Action  Christopher Nolan     9.0\n"
          ]
        }
      ],
      "source": [
        "import pandas as pd\n",
        "from sklearn.metrics.pairwise import cosine_similarity\n",
        "from sklearn.feature_extraction.text import CountVectorizer\n",
        "\n",
        "# Load the movie dataset\n",
        "data_path = \"custom_movie_dataset.csv\"  # Update with the actual path to your data file\n",
        "movies = pd.read_csv('/content/sample_data/custom_movie_dataset.csv')\n",
        "\n",
        "# Merge key attributes like genre and director into a single string for each movie\n",
        "movies[\"combined_features\"] = movies[\"genre\"] + \" \" + movies[\"director\"]\n",
        "\n",
        "# Transform the combined features into a frequency count matrix\n",
        "vectorizer = CountVectorizer()\n",
        "count_matrix = vectorizer.fit_transform(movies[\"combined_features\"])\n",
        "\n",
        "# Calculate the cosine similarity matrix\n",
        "similarity_matrix = cosine_similarity(count_matrix)\n",
        "\n",
        "# Function to suggest movies based on the genre\n",
        "def suggest_movies_by_genre(input_genre, top_n_recommendations=5):\n",
        "    # Select movies whose genre matches the input\n",
        "    genre_filtered_movies = movies[movies[\"genre\"].str.contains(input_genre, case=False, na=False)]\n",
        "\n",
        "    if genre_filtered_movies.empty:\n",
        "        return f\"No movies found under the genre '{input_genre}'.\"\n",
        "\n",
        "    # For the selected genre movies, calculate similarity scores\n",
        "    genre_movie_indices = genre_filtered_movies.index\n",
        "    all_similarity_scores = []\n",
        "\n",
        "    for index in genre_movie_indices:\n",
        "        all_similarity_scores.extend(list(enumerate(similarity_matrix[index])))\n",
        "\n",
        "    # Sort the movies based on their similarity scores\n",
        "    sorted_movies_by_similarity = sorted(all_similarity_scores, key=lambda x: x[1], reverse=True)\n",
        "\n",
        "    # Select the top N movie recommendations, excluding the original input\n",
        "    recommended_movie_indices = [i[0] for i in sorted_movies_by_similarity[1:top_n_recommendations + 1]]\n",
        "    recommended_movies_list = movies.iloc[recommended_movie_indices]\n",
        "\n",
        "    return recommended_movies_list[[\"title\", \"genre\", \"director\", \"rating\"]]\n",
        "\n",
        "# Main function to run the movie recommendation system\n",
        "if __name__ == \"__main__\":\n",
        "    print(\"Welcome to the Movie Recommendation System!\")\n",
        "    genre_input = input(\"Enter a genre to receive movie suggestions: \")\n",
        "    movie_recommendations = suggest_movies_by_genre(genre_input)\n",
        "\n",
        "    if isinstance(movie_recommendations, str):\n",
        "        print(movie_recommendations)\n",
        "    else:\n",
        "        print(\"\\nHere are some top movie recommendations for you:\")\n",
        "        print(movie_recommendations)\n"
      ]
    },
    {
      "cell_type": "code",
      "source": [],
      "metadata": {
        "id": "dhOMnOoHWfFE"
      },
      "execution_count": null,
      "outputs": []
    }
  ]
}